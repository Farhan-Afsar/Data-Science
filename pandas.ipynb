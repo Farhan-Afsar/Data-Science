{
 "cells": [
  {
   "metadata": {},
   "cell_type": "code",
   "source": [
    "\n",
    "'''\n",
    "Pandas -> working with Tabular Data\n",
    "\n",
    "'''"
   ],
   "id": "2b7e7c2fab47bfa6",
   "outputs": [],
   "execution_count": null
  },
  {
   "metadata": {},
   "cell_type": "code",
   "source": [
    "import pandas as pd\n",
    "pd.__version__"
   ],
   "id": "39338b147c918e7",
   "outputs": [],
   "execution_count": null
  },
  {
   "metadata": {},
   "cell_type": "code",
   "source": [
    "# DataFrame\n",
    "\n",
    "health = {\n",
    "    \"height\": [5.5,5.8,5.8,5.9],\n",
    "    \"weight\": [55,58,58,59],\n",
    "    \"bmi\": [18,22,19,22]\n",
    "}\n",
    "\n",
    "health_frame = pd.DataFrame(health)\n",
    "print(type(health_frame))\n",
    "print(health_frame)"
   ],
   "id": "510349022aa3fe99",
   "outputs": [],
   "execution_count": null
  },
  {
   "metadata": {},
   "cell_type": "code",
   "source": "health_frame.head(2)",
   "id": "afd3926ac458da65",
   "outputs": [],
   "execution_count": null
  },
  {
   "metadata": {},
   "cell_type": "code",
   "source": "health_frame.tail(2)",
   "id": "7258a1fdbe285120",
   "outputs": [],
   "execution_count": null
  },
  {
   "metadata": {},
   "cell_type": "code",
   "source": "health_frame.info()",
   "id": "8a08842d7acdfe4f",
   "outputs": [],
   "execution_count": null
  },
  {
   "metadata": {},
   "cell_type": "code",
   "source": "health_frame.shape",
   "id": "71b28756ce443ce2",
   "outputs": [],
   "execution_count": null
  },
  {
   "metadata": {},
   "cell_type": "code",
   "source": "health_frame.info()",
   "id": "c0d05ccaabc1466",
   "outputs": [],
   "execution_count": null
  },
  {
   "metadata": {},
   "cell_type": "code",
   "source": "health_frame.describe()",
   "id": "efb1ede824b6ed72",
   "outputs": [],
   "execution_count": null
  },
  {
   "metadata": {},
   "cell_type": "code",
   "source": "print(health_frame.values)",
   "id": "2590fbe86f5edb16",
   "outputs": [],
   "execution_count": null
  },
  {
   "metadata": {},
   "cell_type": "code",
   "source": "health_frame.columns",
   "id": "4488e4aa3dd2e9c5",
   "outputs": [],
   "execution_count": null
  },
  {
   "metadata": {},
   "cell_type": "code",
   "source": "health_frame.columns = [\"Height\", \"Weight\", \"BMI\"]",
   "id": "511c612f82aa036",
   "outputs": [],
   "execution_count": null
  },
  {
   "metadata": {},
   "cell_type": "code",
   "source": "health_frame.columns",
   "id": "6de46c2689fbd836",
   "outputs": [],
   "execution_count": null
  },
  {
   "metadata": {},
   "cell_type": "code",
   "source": [
    "df = pd.read_csv(\"/home/farhan-afsar/Desktop/Bongodev/Dataset/homelessness.csv\")\n",
    "df"
   ],
   "id": "74611b911b0a34ae",
   "outputs": [],
   "execution_count": null
  },
  {
   "metadata": {},
   "cell_type": "code",
   "source": [
    "sorted_df = df.sort_values(\n",
    "    by = [\"region\"],\n",
    "    ascending = True\n",
    ")\n",
    "sorted_df\n"
   ],
   "id": "a8ddffc897fb6f0c",
   "outputs": [],
   "execution_count": null
  },
  {
   "metadata": {},
   "cell_type": "code",
   "source": "df[['individuals','region']].head(5)",
   "id": "c37b641dae29d0be",
   "outputs": [],
   "execution_count": null
  },
  {
   "metadata": {},
   "cell_type": "code",
   "source": [
    "df.query(\n",
    "    \"region == 'Pacific' and family_members < 10000\"\n",
    ")"
   ],
   "id": "64ad8c406c11273e",
   "outputs": [],
   "execution_count": null
  },
  {
   "metadata": {},
   "cell_type": "code",
   "source": [
    "import os\n",
    "root_dir = os.getcwd()\n",
    "print(root_dir)\n",
    "data_dir = os.path.join(root_dir, \"Dataset\")\n",
    "print(data_dir)\n",
    "dataset_path = os.path.join(data_dir, \"sales_subset.csv\")\n",
    "print(dataset_path)"
   ],
   "id": "b69d829c60de5230",
   "outputs": [],
   "execution_count": null
  },
  {
   "metadata": {},
   "cell_type": "code",
   "source": [
    "sales = pd.read_csv(dataset_path)\n",
    "sales.head(5)"
   ],
   "id": "cddd9eef54c9552b",
   "outputs": [],
   "execution_count": null
  },
  {
   "metadata": {},
   "cell_type": "code",
   "source": "sales.describe()",
   "id": "1fe077a6cecbb5e7",
   "outputs": [],
   "execution_count": null
  },
  {
   "metadata": {},
   "cell_type": "code",
   "source": "sales.info()",
   "id": "88273e830b1fe2ea",
   "outputs": [],
   "execution_count": null
  },
  {
   "metadata": {},
   "cell_type": "code",
   "source": [
    "sales = sales.drop(columns=['Unnamed: 0'])\n",
    "sales.head(5)"
   ],
   "id": "bd807163a0d39d0",
   "outputs": [],
   "execution_count": null
  },
  {
   "metadata": {},
   "cell_type": "code",
   "source": "sales.info()",
   "id": "22183bcc4eec8f3d",
   "outputs": [],
   "execution_count": null
  },
  {
   "metadata": {},
   "cell_type": "code",
   "source": [
    "sales['weekly_sales'].mean()\n",
    "sales['weekly_sales'].median()\n",
    "sales['weekly_sales'].min()\n",
    "sales['weekly_sales'].max()\n",
    "sales['weekly_sales'].sum()"
   ],
   "id": "7bc29e4bbdf02d76",
   "outputs": [],
   "execution_count": null
  },
  {
   "metadata": {},
   "cell_type": "code",
   "source": [
    "import numpy as np\n",
    "np.mean(sales['weekly_sales'])"
   ],
   "id": "90113cb823eec3cf",
   "outputs": [],
   "execution_count": null
  },
  {
   "metadata": {},
   "cell_type": "code",
   "source": [
    "'''\n",
    "list =  [ 1 2 3 4 5]\n",
    "cumsum =[ 1 3 6 10 15]\n",
    "'''\n",
    "sales['weekly_sales'].cumsum()"
   ],
   "id": "fcc16bf4ad16111d",
   "outputs": [],
   "execution_count": null
  },
  {
   "metadata": {},
   "cell_type": "code",
   "source": "sales[['weekly_sales','fuel_price_usd_per_l']].mean()",
   "id": "3872fef00d9bffbe",
   "outputs": [],
   "execution_count": null
  },
  {
   "metadata": {},
   "cell_type": "code",
   "source": [
    "def normalize(col):\n",
    "    mean = col.mean()\n",
    "    std = col.std()\n",
    "\n",
    "    return (col - mean)/std"
   ],
   "id": "9c7d12b36f3b971c",
   "outputs": [],
   "execution_count": null
  },
  {
   "metadata": {},
   "cell_type": "code",
   "source": "sales['weekly_sales'].agg([normalize])",
   "id": "64545b85a069f382",
   "outputs": [],
   "execution_count": null
  },
  {
   "metadata": {},
   "cell_type": "code",
   "source": "sales['type'].value_counts()",
   "id": "b0c976e0a19fef9",
   "outputs": [],
   "execution_count": null
  },
  {
   "metadata": {},
   "cell_type": "code",
   "source": "sales['store'].value_counts()",
   "id": "aeed02f73f1807b6",
   "outputs": [],
   "execution_count": null
  },
  {
   "metadata": {},
   "cell_type": "code",
   "source": "sales['store'].value_counts(ascending=True)",
   "id": "944c25652aea5003",
   "outputs": [],
   "execution_count": null
  },
  {
   "metadata": {},
   "cell_type": "code",
   "source": [
    "sales_group = sales.groupby('type')\n",
    "sales_group.head()"
   ],
   "id": "157a6227126d1411",
   "outputs": [],
   "execution_count": null
  },
  {
   "metadata": {},
   "cell_type": "code",
   "source": "sales_group['weekly_sales'].sum()",
   "id": "a9c297205cf0869",
   "outputs": [],
   "execution_count": null
  },
  {
   "metadata": {},
   "cell_type": "code",
   "source": [
    "sales_stat = sales.groupby(\"type\")['weekly_sales'].agg([min,max,np.mean,np.median])\n",
    "sales_stat"
   ],
   "id": "d87481dc000b3da4",
   "outputs": [],
   "execution_count": null
  },
  {
   "metadata": {},
   "cell_type": "code",
   "source": "sales.iloc[:,1:4]",
   "id": "1ad8d035b473bfd8",
   "outputs": [],
   "execution_count": null
  },
  {
   "metadata": {},
   "cell_type": "code",
   "source": [
    "sales.pivot_table(\n",
    "    values = \"weekly_sales\",   # kn column r upor korte chai\n",
    "    index = 'type',            #Group by ki dia\n",
    "    aggfunc = [min,max,np.mean,np.median]\n",
    ")"
   ],
   "id": "ba5c52189b5eef9b",
   "outputs": [],
   "execution_count": null
  },
  {
   "metadata": {},
   "cell_type": "code",
   "source": "",
   "id": "8e076ce4c38aca91",
   "outputs": [],
   "execution_count": null
  }
 ],
 "metadata": {
  "kernelspec": {
   "display_name": "Python 3",
   "language": "python",
   "name": "python3"
  },
  "language_info": {
   "codemirror_mode": {
    "name": "ipython",
    "version": 2
   },
   "file_extension": ".py",
   "mimetype": "text/x-python",
   "name": "python",
   "nbconvert_exporter": "python",
   "pygments_lexer": "ipython2",
   "version": "2.7.6"
  }
 },
 "nbformat": 4,
 "nbformat_minor": 5
}
