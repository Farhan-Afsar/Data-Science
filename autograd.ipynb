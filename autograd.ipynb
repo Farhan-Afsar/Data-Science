{
 "cells": [
  {
   "cell_type": "code",
   "id": "initial_id",
   "metadata": {
    "collapsed": true,
    "ExecuteTime": {
     "end_time": "2025-05-03T15:09:37.982701Z",
     "start_time": "2025-05-03T15:09:37.978608Z"
    }
   },
   "source": "import torch",
   "outputs": [],
   "execution_count": 11
  },
  {
   "metadata": {
    "ExecuteTime": {
     "end_time": "2025-05-03T15:09:39.780693Z",
     "start_time": "2025-05-03T15:09:39.777722Z"
    }
   },
   "cell_type": "code",
   "source": [
    "x = torch.tensor(3.0, requires_grad=True)\n",
    "x"
   ],
   "id": "e2f94fa79d6c75dd",
   "outputs": [
    {
     "data": {
      "text/plain": [
       "tensor(3., requires_grad=True)"
      ]
     },
     "execution_count": 12,
     "metadata": {},
     "output_type": "execute_result"
    }
   ],
   "execution_count": 12
  },
  {
   "metadata": {
    "ExecuteTime": {
     "end_time": "2025-05-03T15:09:41.421797Z",
     "start_time": "2025-05-03T15:09:41.417575Z"
    }
   },
   "cell_type": "code",
   "source": [
    "y = x**2\n",
    "y"
   ],
   "id": "744ada1eb0a7257f",
   "outputs": [
    {
     "data": {
      "text/plain": [
       "tensor(9., grad_fn=<PowBackward0>)"
      ]
     },
     "execution_count": 13,
     "metadata": {},
     "output_type": "execute_result"
    }
   ],
   "execution_count": 13
  },
  {
   "metadata": {
    "ExecuteTime": {
     "end_time": "2025-05-03T15:06:48.010850Z",
     "start_time": "2025-05-03T15:06:48.001567Z"
    }
   },
   "cell_type": "code",
   "source": "y.backward()",
   "id": "45d4b81f0e4f49ca",
   "outputs": [],
   "execution_count": 4
  },
  {
   "metadata": {
    "ExecuteTime": {
     "end_time": "2025-05-03T15:06:50.562393Z",
     "start_time": "2025-05-03T15:06:50.554460Z"
    }
   },
   "cell_type": "code",
   "source": "x.grad",
   "id": "6262905b6edfd28d",
   "outputs": [
    {
     "data": {
      "text/plain": [
       "tensor(6.)"
      ]
     },
     "execution_count": 5,
     "metadata": {},
     "output_type": "execute_result"
    }
   ],
   "execution_count": 5
  },
  {
   "metadata": {
    "ExecuteTime": {
     "end_time": "2025-05-03T15:10:03.326419Z",
     "start_time": "2025-05-03T15:10:03.322075Z"
    }
   },
   "cell_type": "code",
   "source": "z = torch.sin(y)",
   "id": "74b00326369d052f",
   "outputs": [],
   "execution_count": 14
  },
  {
   "metadata": {
    "ExecuteTime": {
     "end_time": "2025-05-03T15:10:05.878820Z",
     "start_time": "2025-05-03T15:10:05.874362Z"
    }
   },
   "cell_type": "code",
   "source": "x",
   "id": "cc55d729fe2b68a3",
   "outputs": [
    {
     "data": {
      "text/plain": [
       "tensor(3., requires_grad=True)"
      ]
     },
     "execution_count": 15,
     "metadata": {},
     "output_type": "execute_result"
    }
   ],
   "execution_count": 15
  },
  {
   "metadata": {
    "ExecuteTime": {
     "end_time": "2025-05-03T15:10:07.085696Z",
     "start_time": "2025-05-03T15:10:07.082465Z"
    }
   },
   "cell_type": "code",
   "source": "y",
   "id": "5681dcb03ceffbe1",
   "outputs": [
    {
     "data": {
      "text/plain": [
       "tensor(9., grad_fn=<PowBackward0>)"
      ]
     },
     "execution_count": 16,
     "metadata": {},
     "output_type": "execute_result"
    }
   ],
   "execution_count": 16
  },
  {
   "metadata": {
    "ExecuteTime": {
     "end_time": "2025-05-03T15:10:08.296628Z",
     "start_time": "2025-05-03T15:10:08.292114Z"
    }
   },
   "cell_type": "code",
   "source": "z",
   "id": "bee5effa34b48333",
   "outputs": [
    {
     "data": {
      "text/plain": [
       "tensor(0.4121, grad_fn=<SinBackward0>)"
      ]
     },
     "execution_count": 17,
     "metadata": {},
     "output_type": "execute_result"
    }
   ],
   "execution_count": 17
  },
  {
   "metadata": {
    "ExecuteTime": {
     "end_time": "2025-05-03T15:10:09.549167Z",
     "start_time": "2025-05-03T15:10:09.546232Z"
    }
   },
   "cell_type": "code",
   "source": "z.backward()",
   "id": "27edd5486c46cd31",
   "outputs": [],
   "execution_count": 18
  },
  {
   "metadata": {
    "ExecuteTime": {
     "end_time": "2025-05-03T15:10:13.738877Z",
     "start_time": "2025-05-03T15:10:13.729189Z"
    }
   },
   "cell_type": "code",
   "source": "x.grad",
   "id": "1f972e886f989388",
   "outputs": [
    {
     "data": {
      "text/plain": [
       "tensor(-5.4668)"
      ]
     },
     "execution_count": 19,
     "metadata": {},
     "output_type": "execute_result"
    }
   ],
   "execution_count": 19
  }
 ],
 "metadata": {
  "kernelspec": {
   "display_name": "Python 3",
   "language": "python",
   "name": "python3"
  },
  "language_info": {
   "codemirror_mode": {
    "name": "ipython",
    "version": 2
   },
   "file_extension": ".py",
   "mimetype": "text/x-python",
   "name": "python",
   "nbconvert_exporter": "python",
   "pygments_lexer": "ipython2",
   "version": "2.7.6"
  }
 },
 "nbformat": 4,
 "nbformat_minor": 5
}
