{
 "cells": [
  {
   "cell_type": "code",
   "id": "initial_id",
   "metadata": {
    "collapsed": true
   },
   "source": [
    "'''\n",
    "Tensor -> Data structure use for holding multi-dimensional array\n",
    "'''"
   ],
   "outputs": [],
   "execution_count": null
  },
  {
   "metadata": {},
   "cell_type": "code",
   "source": [
    "import torch\n",
    "torch.__version__"
   ],
   "id": "61a5b5d68df1a022",
   "outputs": [],
   "execution_count": null
  },
  {
   "metadata": {},
   "cell_type": "code",
   "source": [
    "if torch.cuda.is_available():\n",
    "    device = torch.device('cuda')\n",
    "    print(device)\n",
    "else:\n",
    "    device = torch.device('cpu')\n",
    "    print(device)"
   ],
   "id": "608e88065ad099f8",
   "outputs": [],
   "execution_count": null
  },
  {
   "metadata": {},
   "cell_type": "code",
   "source": [
    "a= torch.empty(2,3)\n",
    "a"
   ],
   "id": "1592e747dcb81daa",
   "outputs": [],
   "execution_count": null
  },
  {
   "metadata": {},
   "cell_type": "code",
   "source": "type(a)",
   "id": "e4284ff7ca052b28",
   "outputs": [],
   "execution_count": null
  },
  {
   "metadata": {},
   "cell_type": "code",
   "source": "torch.zeros(2,3)",
   "id": "1340279949779155",
   "outputs": [],
   "execution_count": null
  },
  {
   "metadata": {},
   "cell_type": "code",
   "source": "print(torch.ones(2,3))",
   "id": "e28a0246a2bfb85f",
   "outputs": [],
   "execution_count": null
  },
  {
   "metadata": {},
   "cell_type": "code",
   "source": [
    "torch.manual_seed(100)\n",
    "torch.rand(2,3)"
   ],
   "id": "6523b2d9dc525a87",
   "outputs": [],
   "execution_count": null
  },
  {
   "metadata": {},
   "cell_type": "code",
   "source": [
    "torch.tensor(\n",
    "    [[1,2,3],\n",
    "    [4,5,6]]\n",
    ")"
   ],
   "id": "9faccb102c06d851",
   "outputs": [],
   "execution_count": null
  },
  {
   "metadata": {},
   "cell_type": "code",
   "source": "torch.arange(0,10,2)",
   "id": "94f73fc675fe2191",
   "outputs": [],
   "execution_count": null
  },
  {
   "metadata": {},
   "cell_type": "code",
   "source": "torch.linspace(0,10,10)",
   "id": "9c69e62aea6d26a6",
   "outputs": [],
   "execution_count": null
  },
  {
   "metadata": {},
   "cell_type": "code",
   "source": "torch.eye(5)",
   "id": "3ec6d9b5107380a5",
   "outputs": [],
   "execution_count": null
  },
  {
   "metadata": {},
   "cell_type": "code",
   "source": "torch.full((2,3),5)",
   "id": "d0f6e8d078c5ddef",
   "outputs": [],
   "execution_count": null
  },
  {
   "metadata": {},
   "cell_type": "code",
   "source": [
    "x = torch.tensor(\n",
    "    [[1,2,3],\n",
    "     [4,5,6],\n",
    "     [7,8,9]]\n",
    ")\n",
    "x.shape"
   ],
   "id": "f93762e0151b58e1",
   "outputs": [],
   "execution_count": null
  },
  {
   "metadata": {},
   "cell_type": "code",
   "source": "torch.empty_like(x)",
   "id": "1254cedca84849c3",
   "outputs": [],
   "execution_count": null
  },
  {
   "metadata": {},
   "cell_type": "code",
   "source": "torch.ones_like(x)",
   "id": "88f4420750a7da8b",
   "outputs": [],
   "execution_count": null
  },
  {
   "metadata": {},
   "cell_type": "code",
   "source": "x.dtype",
   "id": "5f0a9867a96d77fa",
   "outputs": [],
   "execution_count": null
  },
  {
   "metadata": {},
   "cell_type": "code",
   "source": "b = torch.tensor([1,2,3,4,5],dtype=torch.float)",
   "id": "697c87ce89fcd5bd",
   "outputs": [],
   "execution_count": null
  },
  {
   "metadata": {},
   "cell_type": "code",
   "source": "b.dtype",
   "id": "11c1ea3d8bafad87",
   "outputs": [],
   "execution_count": null
  },
  {
   "metadata": {},
   "cell_type": "code",
   "source": "x.to(torch.float)",
   "id": "a918f97a91c4691f",
   "outputs": [],
   "execution_count": null
  },
  {
   "metadata": {},
   "cell_type": "code",
   "source": "a = torch.tensor([1,2,3,4,5],dtype=torch.float)",
   "id": "6d3dae0fa2078fcc",
   "outputs": [],
   "execution_count": null
  },
  {
   "metadata": {},
   "cell_type": "code",
   "source": "a",
   "id": "4bf95ec461a36101",
   "outputs": [],
   "execution_count": null
  },
  {
   "metadata": {},
   "cell_type": "code",
   "source": "a +2",
   "id": "efe3955f7b4ba895",
   "outputs": [],
   "execution_count": null
  },
  {
   "metadata": {},
   "cell_type": "code",
   "source": "a -3",
   "id": "3898c8a0152dfdc9",
   "outputs": [],
   "execution_count": null
  },
  {
   "metadata": {},
   "cell_type": "code",
   "source": "a * 2",
   "id": "c996915e11c50cb0",
   "outputs": [],
   "execution_count": null
  },
  {
   "metadata": {},
   "cell_type": "code",
   "source": [
    "x1 = torch.ones(2,3)\n",
    "x2 = torch.full((2,3),5)\n",
    "print(x1,x2)"
   ],
   "id": "c0d298114c4d033b",
   "outputs": [],
   "execution_count": null
  },
  {
   "metadata": {},
   "cell_type": "code",
   "source": "x1 + x2",
   "id": "f2e536c31151e260",
   "outputs": [],
   "execution_count": null
  },
  {
   "metadata": {},
   "cell_type": "code",
   "source": "torch.abs(a-3)",
   "id": "d3092392394b93b1",
   "outputs": [],
   "execution_count": null
  },
  {
   "metadata": {},
   "cell_type": "code",
   "source": [
    "# torch.neg()\n",
    "# torch.round()\n",
    "# torch.ceil()\n",
    "# torch.floor()\n",
    "# torch.clamp(a,max=2,max = 3)"
   ],
   "id": "b192cfd7ad161",
   "outputs": [],
   "execution_count": null
  },
  {
   "metadata": {},
   "cell_type": "code",
   "source": "x1",
   "id": "d8b9342413fb2421",
   "outputs": [],
   "execution_count": null
  },
  {
   "metadata": {},
   "cell_type": "code",
   "source": "torch.sum(x1)",
   "id": "ae3eb865fab1a8b9",
   "outputs": [],
   "execution_count": null
  },
  {
   "metadata": {},
   "cell_type": "code",
   "source": "torch.sum(x1,dim=0) #colmn",
   "id": "c15c0e8d827daf38",
   "outputs": [],
   "execution_count": null
  },
  {
   "metadata": {},
   "cell_type": "code",
   "source": "torch.mean(x1)",
   "id": "d7e2e0357795892b",
   "outputs": [],
   "execution_count": null
  },
  {
   "metadata": {},
   "cell_type": "code",
   "source": "torch.prod(x1)",
   "id": "3640eaeb63f9d562",
   "outputs": [],
   "execution_count": null
  },
  {
   "metadata": {},
   "cell_type": "code",
   "source": "torch.argmax(x1)",
   "id": "1e73e3e26d619dd0",
   "outputs": [],
   "execution_count": null
  },
  {
   "metadata": {},
   "cell_type": "code",
   "source": "torch.argmin(x1)\n",
   "id": "be3b75dc5f0b0b65",
   "outputs": [],
   "execution_count": null
  },
  {
   "metadata": {},
   "cell_type": "code",
   "source": "torch.matmul(x1,x2)",
   "id": "1762557a2e098975",
   "outputs": [],
   "execution_count": null
  },
  {
   "metadata": {},
   "cell_type": "code",
   "source": "torch.dot(x1,x2)",
   "id": "7af81e5e16f9b211",
   "outputs": [],
   "execution_count": null
  },
  {
   "metadata": {},
   "cell_type": "code",
   "source": "x1 > x2",
   "id": "bc7c1b8891f77f11",
   "outputs": [],
   "execution_count": null
  },
  {
   "metadata": {},
   "cell_type": "code",
   "source": "x1 < x2",
   "id": "76080cc02a3b9464",
   "outputs": [],
   "execution_count": null
  },
  {
   "metadata": {},
   "cell_type": "code",
   "source": "k = torch.randint(size = (2,3),low = 0,high = 10)",
   "id": "6b97cc2ccff91651",
   "outputs": [],
   "execution_count": null
  },
  {
   "metadata": {},
   "cell_type": "code",
   "source": "k",
   "id": "12af41aae849aa7",
   "outputs": [],
   "execution_count": null
  },
  {
   "metadata": {},
   "cell_type": "code",
   "source": "torch.log(k)",
   "id": "aef8d1aa55be1beb",
   "outputs": [],
   "execution_count": null
  },
  {
   "metadata": {},
   "cell_type": "code",
   "source": "torch.exp(k)",
   "id": "4ee2328bc06138fb",
   "outputs": [],
   "execution_count": null
  },
  {
   "metadata": {},
   "cell_type": "code",
   "source": "torch.sqrt(k)",
   "id": "54ffb85a8dd778cc",
   "outputs": [],
   "execution_count": null
  },
  {
   "metadata": {},
   "cell_type": "code",
   "source": "torch.sigmoid(k)",
   "id": "fee19e80cf3d471d",
   "outputs": [],
   "execution_count": null
  },
  {
   "metadata": {},
   "cell_type": "code",
   "source": "k.add_(x1)",
   "id": "8af45438658145f6",
   "outputs": [],
   "execution_count": null
  },
  {
   "metadata": {},
   "cell_type": "code",
   "source": "k_copy = k.clone()",
   "id": "3c366d8da1640dd9",
   "outputs": [],
   "execution_count": null
  },
  {
   "metadata": {},
   "cell_type": "code",
   "source": "k_copy",
   "id": "e2ec76bf92a82ab8",
   "outputs": [],
   "execution_count": null
  },
  {
   "metadata": {},
   "cell_type": "code",
   "source": [
    "print(id(k))\n",
    "print(id(k_copy))"
   ],
   "id": "bc874c9fe412f616",
   "outputs": [],
   "execution_count": null
  },
  {
   "metadata": {},
   "cell_type": "code",
   "source": [
    "torch.cuda.is_available()\n",
    "device = torch.device('cuda')"
   ],
   "id": "50f5819e71585fe4",
   "outputs": [],
   "execution_count": null
  },
  {
   "metadata": {},
   "cell_type": "code",
   "source": "k_gpu = k.to(device)",
   "id": "2583ea685fb4c52c",
   "outputs": [],
   "execution_count": null
  },
  {
   "metadata": {},
   "cell_type": "code",
   "source": "k.shape",
   "id": "474ea123714a8a08",
   "outputs": [],
   "execution_count": null
  },
  {
   "metadata": {},
   "cell_type": "code",
   "source": "k.reshape(2,1,3)",
   "id": "a2d6569633a4b583",
   "outputs": [],
   "execution_count": null
  },
  {
   "metadata": {},
   "cell_type": "code",
   "source": "k.flatten()",
   "id": "ad5aa3d8e70eb4",
   "outputs": [],
   "execution_count": null
  },
  {
   "metadata": {},
   "cell_type": "code",
   "source": "k.permute(1,0,2)",
   "id": "a7a198dda533f266",
   "outputs": [],
   "execution_count": null
  },
  {
   "metadata": {},
   "cell_type": "code",
   "source": [
    "c = torch.randn(266,266,3)\n",
    "c.unsqueeze(0).shape"
   ],
   "id": "741639a397b06568",
   "outputs": [],
   "execution_count": null
  },
  {
   "metadata": {},
   "cell_type": "code",
   "source": [
    "d = torch.rand(1,20)\n",
    "d.squeeze(0).shape"
   ],
   "id": "e6c78c955dc032f2",
   "outputs": [],
   "execution_count": null
  },
  {
   "metadata": {},
   "cell_type": "code",
   "source": "import numpy as np",
   "id": "4f1f70305bb70406",
   "outputs": [],
   "execution_count": null
  },
  {
   "metadata": {},
   "cell_type": "code",
   "source": [
    "e = d.numpy()\n",
    "\n",
    "print(type(e))\n",
    "torch.from_numpy(e)"
   ],
   "id": "759992cea89c07ed",
   "outputs": [],
   "execution_count": null
  }
 ],
 "metadata": {
  "kernelspec": {
   "display_name": "Python 3",
   "language": "python",
   "name": "python3"
  },
  "language_info": {
   "codemirror_mode": {
    "name": "ipython",
    "version": 2
   },
   "file_extension": ".py",
   "mimetype": "text/x-python",
   "name": "python",
   "nbconvert_exporter": "python",
   "pygments_lexer": "ipython2",
   "version": "2.7.6"
  }
 },
 "nbformat": 4,
 "nbformat_minor": 5
}
