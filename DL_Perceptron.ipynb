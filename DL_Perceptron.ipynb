{
 "cells": [
  {
   "cell_type": "code",
   "id": "initial_id",
   "metadata": {
    "collapsed": true,
    "ExecuteTime": {
     "end_time": "2025-05-02T22:04:58.157397Z",
     "start_time": "2025-05-02T22:04:56.901151Z"
    }
   },
   "source": [
    "import torch\n",
    "import torch.nn as nn"
   ],
   "outputs": [],
   "execution_count": 1
  },
  {
   "metadata": {
    "ExecuteTime": {
     "end_time": "2025-05-02T22:04:58.170680Z",
     "start_time": "2025-05-02T22:04:58.167937Z"
    }
   },
   "cell_type": "code",
   "source": [
    "x = torch.tensor(\n",
    "    [\n",
    "        [0.0,0.0],\n",
    "        [0.0,1.0],\n",
    "        [1.0,0.0],\n",
    "        [1.0,1.0],\n",
    "    ]\n",
    ")\n",
    "\n",
    "y = torch.tensor(\n",
    "    [\n",
    "        [0.0],\n",
    "        [0.0],\n",
    "        [0.0],\n",
    "        [1.0]\n",
    "    ]\n",
    ")"
   ],
   "id": "806c4750d16d3077",
   "outputs": [],
   "execution_count": 2
  },
  {
   "metadata": {
    "ExecuteTime": {
     "end_time": "2025-05-02T22:04:58.256647Z",
     "start_time": "2025-05-02T22:04:58.255058Z"
    }
   },
   "cell_type": "code",
   "source": "print(type(x))",
   "id": "e9122486f814afe2",
   "outputs": [
    {
     "name": "stdout",
     "output_type": "stream",
     "text": [
      "<class 'torch.Tensor'>\n"
     ]
    }
   ],
   "execution_count": 3
  },
  {
   "metadata": {
    "ExecuteTime": {
     "end_time": "2025-05-02T22:07:29.288673Z",
     "start_time": "2025-05-02T22:07:29.283441Z"
    }
   },
   "cell_type": "code",
   "source": [
    "class Perceptron(nn.Module):\n",
    "    def __init__(self,input_size):\n",
    "        super(Perceptron, self).__init__()\n",
    "\n",
    "        self.weight = nn.Parameter(torch.randn(input_size))\n",
    "        self.bias = nn.Parameter(torch.zeros(1))\n",
    "    def forward(self, x):\n",
    "        z = x @ self.weight + self.bias\n",
    "\n",
    "        y_pred = torch.sigmoid(z)\n",
    "        return y_pred"
   ],
   "id": "6d8248e0a9a78173",
   "outputs": [],
   "execution_count": 5
  },
  {
   "metadata": {
    "ExecuteTime": {
     "end_time": "2025-05-02T22:07:58.382666Z",
     "start_time": "2025-05-02T22:07:58.380028Z"
    }
   },
   "cell_type": "code",
   "source": "model = Perceptron(input_size=2)",
   "id": "93e3da1c78dcd9b2",
   "outputs": [],
   "execution_count": 6
  },
  {
   "metadata": {
    "ExecuteTime": {
     "end_time": "2025-05-02T22:08:42.835431Z",
     "start_time": "2025-05-02T22:08:42.825632Z"
    }
   },
   "cell_type": "code",
   "source": [
    "torch.manual_seed(42)\n",
    "x = torch.randn(2)\n",
    "x"
   ],
   "id": "a03bde0b3f70a974",
   "outputs": [
    {
     "data": {
      "text/plain": [
       "tensor([0.3367, 0.1288])"
      ]
     },
     "execution_count": 9,
     "metadata": {},
     "output_type": "execute_result"
    }
   ],
   "execution_count": 9
  },
  {
   "metadata": {
    "ExecuteTime": {
     "end_time": "2025-05-02T22:09:04.663036Z",
     "start_time": "2025-05-02T22:09:04.659612Z"
    }
   },
   "cell_type": "code",
   "source": [
    "y_pred = model(x)\n",
    "y_pred"
   ],
   "id": "36f25676683160e3",
   "outputs": [
    {
     "data": {
      "text/plain": [
       "tensor([0.5406], grad_fn=<SigmoidBackward0>)"
      ]
     },
     "execution_count": 11,
     "metadata": {},
     "output_type": "execute_result"
    }
   ],
   "execution_count": 11
  },
  {
   "metadata": {
    "ExecuteTime": {
     "end_time": "2025-05-02T22:10:37.542203Z",
     "start_time": "2025-05-02T22:10:37.538094Z"
    }
   },
   "cell_type": "code",
   "source": "print(*model.parameters())",
   "id": "3310e92d052ffc6f",
   "outputs": [
    {
     "name": "stdout",
     "output_type": "stream",
     "text": [
      "Parameter containing:\n",
      "tensor([ 1.0912, -1.5886], requires_grad=True) Parameter containing:\n",
      "tensor([0.], requires_grad=True)\n"
     ]
    }
   ],
   "execution_count": 12
  },
  {
   "metadata": {
    "ExecuteTime": {
     "end_time": "2025-05-02T22:13:06.923444Z",
     "start_time": "2025-05-02T22:13:06.914225Z"
    }
   },
   "cell_type": "code",
   "source": [
    "criterion = nn.BCELoss()\n",
    "\n",
    "optimizer = torch.optim.Adam(model.parameters(), lr=0.0001)\n"
   ],
   "id": "e63f996c3b1c8511",
   "outputs": [
    {
     "data": {
      "text/plain": [
       "BCELoss()"
      ]
     },
     "execution_count": 14,
     "metadata": {},
     "output_type": "execute_result"
    }
   ],
   "execution_count": 14
  },
  {
   "metadata": {},
   "cell_type": "code",
   "outputs": [],
   "execution_count": null,
   "source": "",
   "id": "f2997b5bf5f3eeb0"
  }
 ],
 "metadata": {
  "kernelspec": {
   "display_name": "Python 3",
   "language": "python",
   "name": "python3"
  },
  "language_info": {
   "codemirror_mode": {
    "name": "ipython",
    "version": 2
   },
   "file_extension": ".py",
   "mimetype": "text/x-python",
   "name": "python",
   "nbconvert_exporter": "python",
   "pygments_lexer": "ipython2",
   "version": "2.7.6"
  }
 },
 "nbformat": 4,
 "nbformat_minor": 5
}
