{
 "cells": [
  {
   "cell_type": "code",
   "id": "initial_id",
   "metadata": {},
   "source": [
    "print(\"Hello World\")"
   ],
   "outputs": [],
   "execution_count": null
  },
  {
   "metadata": {},
   "cell_type": "code",
   "source": [
    "import numpy as np\n",
    "np.__version__"
   ],
   "id": "f5976a56cc1cfb28",
   "outputs": [],
   "execution_count": null
  },
  {
   "metadata": {},
   "cell_type": "code",
   "source": [
    "\"\"\"\n",
    "Property: dtype,shape,ndim\n",
    "\"\"\"\n",
    "my_array = np.array(\n",
    "    [1,2,3]\n",
    ")\n",
    "print(my_array)\n",
    "print(type(my_array))\n",
    "print(my_array.dtype)  #data type\n",
    "print(my_array.shape)  #shap\n",
    "print(my_array.ndim)   #dimension"
   ],
   "id": "f4000c3b159d4e0c",
   "outputs": [],
   "execution_count": null
  },
  {
   "metadata": {},
   "cell_type": "code",
   "source": [
    "zero_array = np.zeros(\n",
    "    shape=(5,)\n",
    ")\n",
    "print(zero_array)"
   ],
   "id": "7262f4d072c54ff",
   "outputs": [],
   "execution_count": null
  },
  {
   "metadata": {},
   "cell_type": "code",
   "source": [
    "one_array = np.ones(\n",
    "    shape=(5,2),\n",
    "    dtype=int\n",
    ")\n",
    "print(one_array)"
   ],
   "id": "1b251fa98968791b",
   "outputs": [],
   "execution_count": null
  },
  {
   "metadata": {},
   "cell_type": "code",
   "source": [
    "num_array = np.full(\n",
    "    shape=(5,2),\n",
    "    fill_value=2,\n",
    "    dtype=int\n",
    ")\n",
    "print(num_array)"
   ],
   "id": "418b43f72cc3ec93",
   "outputs": [],
   "execution_count": null
  },
  {
   "metadata": {},
   "cell_type": "code",
   "source": [
    "\"\"\"\n",
    "Identity Matrix\n",
    "[1 0 0]\n",
    "[0 1 0]\n",
    "[0 0 1]\n",
    "\"\"\"\n",
    "\n",
    "id_matrix = np.eye(4)\n",
    "id_matrix"
   ],
   "id": "6316b1b697ec04ba",
   "outputs": [],
   "execution_count": null
  },
  {
   "metadata": {},
   "cell_type": "code",
   "source": "np.empty(shape=4)",
   "id": "c6a1ab07b3bc4030",
   "outputs": [],
   "execution_count": null
  },
  {
   "metadata": {},
   "cell_type": "code",
   "source": [
    "'''Type Cast'''\n",
    "\n",
    "print(id_matrix.dtype)\n",
    "type_cast = id_matrix.astype(int)\n",
    "print(type_cast.dtype)"
   ],
   "id": "19170938725e2891",
   "outputs": [],
   "execution_count": null
  },
  {
   "metadata": {},
   "cell_type": "code",
   "source": [
    "# Sequential Array\n",
    "\n",
    "np.arange(start=0, stop=10, step=2)"
   ],
   "id": "3df961ca63b8d5bd",
   "outputs": [],
   "execution_count": null
  },
  {
   "metadata": {},
   "cell_type": "code",
   "source": "np.linspace(start=0, stop=100, num=10)         #Same Distance",
   "id": "cd19decbedcdfeaa",
   "outputs": [],
   "execution_count": null
  },
  {
   "metadata": {},
   "cell_type": "code",
   "source": [
    "\"\"\"\n",
    "Numpy array dimensions\n",
    "\n",
    "scalar -> 0D\n",
    "vector -> 1D\n",
    "matrix -> 2D\n",
    "tensor -> xD where x > 2\n",
    "\n",
    "tensor is unit data type of Pytorch and Tensorflow\n",
    "\n",
    "\"\"\"\n",
    "numpy_0d = np.array(42)\n",
    "print(numpy_0d, numpy_0d.ndim)\n",
    "\n",
    "numpy_1d = np.array(\n",
    "    [1,2,4,5]\n",
    ")\n",
    "print(numpy_1d, numpy_1d.ndim)\n",
    "\n",
    "numpy_2d = np.array(\n",
    "    [\n",
    "        [1,2,3],\n",
    "        [4,5,6],\n",
    "        [7,8,9]\n",
    "    ]\n",
    ")\n",
    "print(numpy_2d, numpy_2d.ndim)"
   ],
   "id": "29e7a6d1c6a44266",
   "outputs": [],
   "execution_count": null
  },
  {
   "metadata": {},
   "cell_type": "code",
   "source": [
    "\"\"\"Indexing\n",
    "Non-Negative indexing\n",
    "Negative indexing\n",
    "\"\"\"\n",
    "\n",
    "arr = np.array([1,2,3,4,5])\n",
    "print(arr[2])\n",
    "print(arr[-3])\n",
    "\n",
    "arr2d = np.array(\n",
    "    [[1,2,3],\n",
    "     [4,5,6],\n",
    "     [7,8,9]]\n",
    ")\n",
    "print(arr2d[2,1])\n",
    "print(arr2d[-1,-2])"
   ],
   "id": "3598709e5165e4e1",
   "outputs": [],
   "execution_count": null
  },
  {
   "metadata": {},
   "cell_type": "code",
   "source": "arr[1:4:1]",
   "id": "af47cd675d951013",
   "outputs": [],
   "execution_count": null
  },
  {
   "metadata": {},
   "cell_type": "code",
   "source": [
    "arrr = np.array([1,2,3,4,5])\n",
    "\n",
    "for val in arrr:\n",
    "    print(val)"
   ],
   "id": "b056718e696f8b73",
   "outputs": [],
   "execution_count": null
  },
  {
   "metadata": {},
   "cell_type": "code",
   "source": [
    "for i in range(len(arrr)):\n",
    "    print(arrr[i])"
   ],
   "id": "4207efe7729c7b41",
   "outputs": [],
   "execution_count": null
  },
  {
   "metadata": {},
   "cell_type": "code",
   "source": [
    "for index, val in enumerate(arrr):\n",
    "    print(f\"index = {index}: value = {val}\")"
   ],
   "id": "e57e41726e9bd809",
   "outputs": [],
   "execution_count": null
  },
  {
   "metadata": {},
   "cell_type": "code",
   "source": [
    "my_2d = np.array(\n",
    "    [\n",
    "        [1,2,3,4,5],\n",
    "        [6,7,8,9,10],\n",
    "        [11,12,13,14,15]\n",
    "    ]\n",
    ")\n",
    "print(my_2d.shape)\n",
    "my_2d.reshape(5,3)"
   ],
   "id": "f519a76fc643ad22",
   "outputs": [],
   "execution_count": null
  },
  {
   "metadata": {},
   "cell_type": "code",
   "source": [
    "\"\"\"Reshaping with -1\"\"\"\n",
    "\n",
    "a = np.zeros(shape=(3,4,2,2))\n",
    "print(a)\n",
    "print(a.reshape(2,2,-1))\n"
   ],
   "id": "9f45e40e1a7930ca",
   "outputs": [],
   "execution_count": null
  },
  {
   "metadata": {},
   "cell_type": "code",
   "source": [
    "\"\"\"Sort\"\"\"\n",
    "\n",
    "probability =  np.array(\n",
    "    [.3,.6,.3,.1]\n",
    ")\n",
    "np.sort(probability)\n",
    "np.sort(probability)[::-1]"
   ],
   "id": "7ae8825c4bd43502",
   "outputs": [],
   "execution_count": null
  },
  {
   "metadata": {},
   "cell_type": "code",
   "source": [
    "'''Argmax Argmin'''\n",
    "print(np.argmax(probability))\n",
    "print(np.argmin(probability))"
   ],
   "id": "873d420d52d41e71",
   "outputs": [],
   "execution_count": null
  },
  {
   "metadata": {},
   "cell_type": "code",
   "source": [
    "\"\"\"Split\"\"\"\n",
    "arr = np.array([9,1,2,3,4,8,5,6])\n",
    "\n",
    "new_arr = np.split(arr, 2)\n",
    "print(new_arr)"
   ],
   "id": "459b7fe958a5fd5d",
   "outputs": [],
   "execution_count": null
  },
  {
   "metadata": {},
   "cell_type": "code",
   "source": [
    "arr1 = np.array([1,2,3,4,5])\n",
    "arr2 = np.array([1,2,3,4,5])\n",
    "np.dot(arr1, arr2)"
   ],
   "id": "ed7cfae812adc069",
   "outputs": [],
   "execution_count": null
  },
  {
   "metadata": {},
   "cell_type": "code",
   "source": [
    "arr3 = np.array(\n",
    "    [[1,2,3,4,5],\n",
    "    [4,5,6,7,8]]\n",
    ")\n",
    "print(arr3.shape)\n",
    "print(arr3.T)"
   ],
   "id": "c0c9aca5bc8e8991",
   "outputs": [],
   "execution_count": null
  },
  {
   "metadata": {},
   "cell_type": "code",
   "source": [
    "'''\n",
    "std = sqrt((n1-mean)^2 + (n2-mean)^2)/(n-1))\n",
    "'''\n",
    "\n",
    "print(np.mean(arr))\n",
    "print(np.median(arr))\n",
    "print(np.std(arr))"
   ],
   "id": "8d0fc34bff7f813f",
   "outputs": [],
   "execution_count": null
  },
  {
   "metadata": {},
   "cell_type": "code",
   "source": [
    "'''Numpy Fileter\n",
    "Option 1 -> Boolean Mask\n",
    "'''\n",
    "\n",
    "my_arr = np.array([1,2,3,4,5])\n",
    "\n",
    "filer_mask = [True,False,True,False,False]\n",
    "print(my_arr[filer_mask])"
   ],
   "id": "e1d67d08d4323608",
   "outputs": [],
   "execution_count": null
  },
  {
   "metadata": {},
   "cell_type": "code",
   "source": [
    "\"\"\" Option2 -> Conditional \"\"\"\n",
    "\n",
    "filer_mask = (my_arr % 2 == 1)\n",
    "print(filer_mask)\n",
    "print(my_arr[filer_mask])"
   ],
   "id": "a362b3150c6c0f52",
   "outputs": [],
   "execution_count": null
  },
  {
   "metadata": {},
   "cell_type": "code",
   "source": [
    "'''Option3 -> indices'''\n",
    "indices = [1,2]\n",
    "print(my_arr[indices])"
   ],
   "id": "b68ba3ec54a98673",
   "outputs": [],
   "execution_count": null
  },
  {
   "metadata": {},
   "cell_type": "code",
   "source": [
    "'''Custom Filer Method'''\n",
    "\n",
    "def my_filer(X):\n",
    "    if X % 2 == 0:\n",
    "        return False\n",
    "    return True\n",
    "\n",
    "filter_iterable = filter(my_filer, my_arr)\n",
    "myfiter_arr = np.array(\n",
    "    list(filter_iterable)\n",
    ")\n",
    "myfiter_arr"
   ],
   "id": "8b8cac7165d44e5e",
   "outputs": [],
   "execution_count": null
  },
  {
   "metadata": {},
   "cell_type": "code",
   "source": [
    "\"\"\"\n",
    "Vectorization\n",
    "\n",
    "in normal array if we want to add 7 we need to go to each index and add 7\n",
    "for i in arr:\n",
    "    i = i + 7\n",
    "\n",
    "in vectorization\n",
    "\n",
    "1       2       3       4       5\n",
    "7       7       7       7       7\n",
    "=8      9       10      11      12\n",
    "\n",
    "done at a time (1 iteration)\n",
    "\n",
    "\"\"\""
   ],
   "id": "c5ed53657d2d1515",
   "outputs": [],
   "execution_count": null
  },
  {
   "metadata": {},
   "cell_type": "markdown",
   "source": "Broadcasting",
   "id": "96d91e39311b2610"
  },
  {
   "metadata": {},
   "cell_type": "code",
   "source": [
    "\"\"\" Converting a lower shape to higher shape for vectorization\n",
    "old shap = (2,)\n",
    "new shape = (4,2)\n",
    "\n",
    "condition:\n",
    "\n",
    "two dimensions are compatible (Right -> left) when:\n",
    "    they are equal\n",
    "    or one of them is 1\n",
    " \"\"\"\n",
    "\n",
    "\n",
    "\n",
    "w = np.array(\n",
    "    [1,2]\n",
    ")\n",
    "x = np.array(\n",
    "    [[3,4],\n",
    "     [5,6],\n",
    "     [7,8],\n",
    "     [9,10]\n",
    "     ]\n",
    ")\n",
    "print(w*x)"
   ],
   "id": "765e5df5177c25f8",
   "outputs": [],
   "execution_count": null
  },
  {
   "metadata": {},
   "cell_type": "markdown",
   "source": "Numpy Axis",
   "id": "bece67aae3d0003c"
  },
  {
   "metadata": {},
   "cell_type": "code",
   "source": [
    "'''\n",
    "First Dimension = 0\n",
    "Second Dimension = 1\n",
    "Nth Dimension = N-1\n",
    "\n",
    "Aggregation function: sum,min,max, median\n",
    "'''"
   ],
   "id": "548783a157ad1678",
   "outputs": [],
   "execution_count": null
  },
  {
   "metadata": {},
   "cell_type": "code",
   "source": [
    "ax = np.zeros(\n",
    "    shape=(2,3,3),\n",
    "    dtype=int\n",
    ")\n",
    "ax"
   ],
   "id": "ddc14967e34653b7",
   "outputs": [],
   "execution_count": null
  },
  {
   "metadata": {},
   "cell_type": "code",
   "source": [
    "a = np.array(\n",
    "    [\n",
    "        [1,-3,7],\n",
    "        [3,4,-1]\n",
    "        # [1,1,3]\n",
    "    ]\n",
    ")\n",
    "print(np.sum(a,axis=1))\n"
   ],
   "id": "27b0e96b217e436b",
   "outputs": [],
   "execution_count": null
  },
  {
   "metadata": {},
   "cell_type": "code",
   "source": [
    "'''For 1D axis -> 0 one axis\n",
    "For 2D axis -> 0 column\n",
    "axis -> 1 row'''"
   ],
   "id": "87b57edf0030d5f4",
   "outputs": [],
   "execution_count": null
  },
  {
   "metadata": {
    "ExecuteTime": {
     "end_time": "2025-04-26T11:53:53.387419Z",
     "start_time": "2025-04-26T11:53:53.382900Z"
    }
   },
   "cell_type": "code",
   "source": [
    "\"\"\"Random\"\"\"\n",
    "\n",
    "b = np.random.randint(5,size=(2,4))\n",
    "b#[0,1]"
   ],
   "id": "e25a7156d4e2ab8c",
   "outputs": [
    {
     "data": {
      "text/plain": [
       "array([[3, 4, 3, 4],\n",
       "       [4, 1, 1, 2]])"
      ]
     },
     "execution_count": 25,
     "metadata": {},
     "output_type": "execute_result"
    }
   ],
   "execution_count": 25
  },
  {
   "metadata": {
    "ExecuteTime": {
     "end_time": "2025-04-26T11:54:47.449885Z",
     "start_time": "2025-04-26T11:54:47.447929Z"
    }
   },
   "cell_type": "code",
   "source": [
    "np.random.shuffle(b)\n",
    "print(b)"
   ],
   "id": "25eba95fcd4676e8",
   "outputs": [
    {
     "name": "stdout",
     "output_type": "stream",
     "text": [
      "[[4 1 1 2]\n",
      " [3 4 3 4]]\n"
     ]
    }
   ],
   "execution_count": 29
  },
  {
   "metadata": {},
   "cell_type": "code",
   "outputs": [],
   "execution_count": null,
   "source": "",
   "id": "8199cfcd3351cfc1"
  }
 ],
 "metadata": {
  "kernelspec": {
   "display_name": "Python 3 (ipykernel)",
   "language": "python",
   "name": "python3"
  },
  "language_info": {
   "codemirror_mode": {
    "name": "ipython",
    "version": 3
   },
   "file_extension": ".py",
   "mimetype": "text/x-python",
   "name": "python",
   "nbconvert_exporter": "python",
   "pygments_lexer": "ipython3",
   "version": "3.12.3"
  }
 },
 "nbformat": 4,
 "nbformat_minor": 5
}
