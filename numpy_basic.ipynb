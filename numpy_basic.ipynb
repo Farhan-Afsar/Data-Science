{
 "cells": [
  {
   "cell_type": "code",
   "id": "initial_id",
   "metadata": {},
   "source": [
    "print(\"Hello World\")"
   ],
   "outputs": [],
   "execution_count": null
  },
  {
   "metadata": {},
   "cell_type": "code",
   "source": [
    "import numpy as np\n",
    "np.__version__"
   ],
   "id": "f5976a56cc1cfb28",
   "outputs": [],
   "execution_count": null
  },
  {
   "metadata": {},
   "cell_type": "code",
   "source": [
    "\"\"\"\n",
    "Property: dtype,shape,ndim\n",
    "\"\"\"\n",
    "my_array = np.array(\n",
    "    [1,2,3]\n",
    ")\n",
    "print(my_array)\n",
    "print(type(my_array))\n",
    "print(my_array.dtype)  #data type\n",
    "print(my_array.shape)  #shap\n",
    "print(my_array.ndim)   #dimension"
   ],
   "id": "f4000c3b159d4e0c",
   "outputs": [],
   "execution_count": null
  },
  {
   "metadata": {},
   "cell_type": "code",
   "source": [
    "zero_array = np.zeros(\n",
    "    shape=(5,)\n",
    ")\n",
    "print(zero_array)"
   ],
   "id": "7262f4d072c54ff",
   "outputs": [],
   "execution_count": null
  },
  {
   "metadata": {},
   "cell_type": "code",
   "source": [
    "one_array = np.ones(\n",
    "    shape=(5,2),\n",
    "    dtype=int\n",
    ")\n",
    "print(one_array)"
   ],
   "id": "1b251fa98968791b",
   "outputs": [],
   "execution_count": null
  },
  {
   "metadata": {},
   "cell_type": "code",
   "source": [
    "num_array = np.full(\n",
    "    shape=(5,2),\n",
    "    fill_value=2,\n",
    "    dtype=int\n",
    ")\n",
    "print(num_array)"
   ],
   "id": "418b43f72cc3ec93",
   "outputs": [],
   "execution_count": null
  },
  {
   "metadata": {},
   "cell_type": "code",
   "source": [
    "\"\"\"\n",
    "Identity Matrix\n",
    "[1 0 0]\n",
    "[0 1 0]\n",
    "[0 0 1]\n",
    "\"\"\"\n",
    "\n",
    "id_matrix = np.eye(4)\n",
    "id_matrix"
   ],
   "id": "6316b1b697ec04ba",
   "outputs": [],
   "execution_count": null
  },
  {
   "metadata": {},
   "cell_type": "code",
   "source": "np.empty(shape=4)",
   "id": "c6a1ab07b3bc4030",
   "outputs": [],
   "execution_count": null
  },
  {
   "metadata": {},
   "cell_type": "code",
   "source": [
    "'''Type Cast'''\n",
    "\n",
    "print(id_matrix.dtype)\n",
    "type_cast = id_matrix.astype(int)\n",
    "print(type_cast.dtype)"
   ],
   "id": "19170938725e2891",
   "outputs": [],
   "execution_count": null
  },
  {
   "metadata": {},
   "cell_type": "code",
   "source": [
    "# Sequential Array\n",
    "\n",
    "np.arange(start=0, stop=10, step=2)"
   ],
   "id": "3df961ca63b8d5bd",
   "outputs": [],
   "execution_count": null
  },
  {
   "metadata": {},
   "cell_type": "code",
   "source": "np.linspace(start=0, stop=100, num=10)         #Same Distance",
   "id": "cd19decbedcdfeaa",
   "outputs": [],
   "execution_count": null
  },
  {
   "metadata": {},
   "cell_type": "code",
   "source": [
    "\"\"\"\n",
    "Numpy array dimensions\n",
    "\n",
    "scalar -> 0D\n",
    "vector -> 1D\n",
    "matrix -> 2D\n",
    "tensor -> xD where x > 2\n",
    "\n",
    "tensor is unit data type of Pytorch and Tensorflow\n",
    "\n",
    "\"\"\"\n",
    "numpy_0d = np.array(42)\n",
    "print(numpy_0d, numpy_0d.ndim)\n",
    "\n",
    "numpy_1d = np.array(\n",
    "    [1,2,4,5]\n",
    ")\n",
    "print(numpy_1d, numpy_1d.ndim)\n",
    "\n",
    "numpy_2d = np.array(\n",
    "    [\n",
    "        [1,2,3],\n",
    "        [4,5,6],\n",
    "        [7,8,9]\n",
    "    ]\n",
    ")\n",
    "print(numpy_2d, numpy_2d.ndim)"
   ],
   "id": "29e7a6d1c6a44266",
   "outputs": [],
   "execution_count": null
  },
  {
   "metadata": {},
   "cell_type": "code",
   "source": [
    "\"\"\"Indexing\n",
    "Non-Negative indexing\n",
    "Negative indexing\n",
    "\"\"\"\n",
    "\n",
    "arr = np.array([1,2,3,4,5])\n",
    "print(arr[2])\n",
    "print(arr[-3])\n",
    "\n",
    "arr2d = np.array(\n",
    "    [[1,2,3],\n",
    "     [4,5,6],\n",
    "     [7,8,9]]\n",
    ")\n",
    "print(arr2d[2,1])\n",
    "print(arr2d[-1,-2])"
   ],
   "id": "3598709e5165e4e1",
   "outputs": [],
   "execution_count": null
  },
  {
   "metadata": {},
   "cell_type": "code",
   "source": "arr[1:4:1]",
   "id": "af47cd675d951013",
   "outputs": [],
   "execution_count": null
  },
  {
   "metadata": {},
   "cell_type": "code",
   "source": "",
   "id": "b056718e696f8b73",
   "outputs": [],
   "execution_count": null
  }
 ],
 "metadata": {
  "kernelspec": {
   "display_name": "Python 3 (ipykernel)",
   "language": "python",
   "name": "python3"
  },
  "language_info": {
   "codemirror_mode": {
    "name": "ipython",
    "version": 3
   },
   "file_extension": ".py",
   "mimetype": "text/x-python",
   "name": "python",
   "nbconvert_exporter": "python",
   "pygments_lexer": "ipython3",
   "version": "3.12.3"
  }
 },
 "nbformat": 4,
 "nbformat_minor": 5
}
